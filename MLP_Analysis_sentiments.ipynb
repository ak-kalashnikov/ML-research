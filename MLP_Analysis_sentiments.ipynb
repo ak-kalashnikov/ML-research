{
  "nbformat": 4,
  "nbformat_minor": 0,
  "metadata": {
    "colab": {
      "provenance": []
    },
    "kernelspec": {
      "name": "python3",
      "display_name": "Python 3"
    },
    "language_info": {
      "name": "python"
    }
  },
  "cells": [
    {
      "cell_type": "markdown",
      "source": [
        "#HW1 – Text Classification with PyTorch (IMDB Dataset)\n",
        "\n",
        "**Task:** Build a sentiment classifier for the IMDB dataset using PyTorch.  \n",
        "**Dataset:** IMDB movie reviews.\n",
        "\n",
        "**Hardware:** Google Colab.\n",
        "\n",
        "I will implement:\n",
        "1. Single-layer MLP\n",
        "2. Two-layer MLP with hidden size 100\n",
        "3. Two-layer MLP with hidden size 200\n",
        "\n",
        "I will compare performance, plot test accuracy per epoch, and do error analysis. I have used tokenization, vocabulary building, training, evaluation, and misclassified examples. I have used SGD as optimizer."
      ],
      "metadata": {
        "id": "jO5mWG-_p2FI"
      }
    },
    {
      "cell_type": "markdown",
      "source": [
        "1. Imports, Loading IMDB and Tokenize"
      ],
      "metadata": {
        "id": "BTGP5CdTqd1x"
      }
    },
    {
      "cell_type": "code",
      "source": [
        "!pip install datasets transformers --quiet\n",
        "\n",
        "import torch\n",
        "import torch.nn as nn\n",
        "import torch.nn.functional as F\n",
        "from torch.utils.data import DataLoader\n",
        "from datasets import load_dataset\n",
        "from collections import Counter\n",
        "import matplotlib.pyplot as plt\n",
        "\n",
        "# Load IMDB dataset\n",
        "dataset = load_dataset(\"imdb\")\n",
        "train_data = dataset[\"train\"]\n",
        "test_data = dataset[\"test\"]\n",
        "\n",
        "# Base tokenizer as given\n",
        "def tokenize(label, line):\n",
        "    return line.split()\n",
        "\n",
        "# Built vocab from training data\n",
        "counter = Counter()\n",
        "for example in train_data:\n",
        "    counter.update(tokenize(None, example[\"text\"]))\n",
        "\n",
        "vocab = {word:i+1 for i,(word,freq) in enumerate(counter.most_common())}\n",
        "vocab[\"<unk>\"] = 0\n",
        "vocab_size = len(vocab)\n",
        "print(f\"Vocab size: {vocab_size}\")\n",
        "\n",
        "# Text to index conversion\n",
        "def text_pipeline(text):\n",
        "    return [vocab.get(token, 0) for token in tokenize(None, text)]\n",
        "\n",
        "# Dataset class\n",
        "class IMDBDataset(torch.utils.data.Dataset):\n",
        "    def __init__(self, data):\n",
        "        self.data = data\n",
        "    def __len__(self):\n",
        "        return len(self.data)\n",
        "    def __getitem__(self, idx):\n",
        "        label = 0 if self.data[idx][\"label\"] == 0 else 1\n",
        "        text = torch.tensor(text_pipeline(self.data[idx][\"text\"]), dtype=torch.int64)\n",
        "        return label, text"
      ],
      "metadata": {
        "colab": {
          "base_uri": "https://localhost:8080/"
        },
        "id": "f0DldITJqeGx",
        "outputId": "a9b82444-8522-45b9-cfc1-4c6a734b7f0f"
      },
      "execution_count": null,
      "outputs": [
        {
          "output_type": "stream",
          "name": "stdout",
          "text": [
            "Vocab size: 280618\n"
          ]
        }
      ]
    },
    {
      "cell_type": "markdown",
      "source": [
        "2. Collate Function for EmbeddingBag"
      ],
      "metadata": {
        "id": "CEUfNnSyqv48"
      }
    },
    {
      "cell_type": "code",
      "source": [
        "def collate_batch(batch):\n",
        "    labels = torch.tensor([label for label, text in batch], dtype=torch.int64)\n",
        "    texts = [text for label, text in batch]\n",
        "    offsets = [0] + [len(t) for t in texts[:-1]]\n",
        "    offsets = torch.tensor(offsets).cumsum(dim=0)\n",
        "    texts = torch.cat(texts)\n",
        "    return labels, texts, offsets\n",
        "\n",
        "# Dataloaders\n",
        "batch_size = 64\n",
        "train_loader = DataLoader(IMDBDataset(train_data), batch_size=batch_size, shuffle=True, collate_fn=collate_batch)\n",
        "test_loader = DataLoader(IMDBDataset(test_data), batch_size=batch_size, shuffle=False, collate_fn=collate_batch)\n"
      ],
      "metadata": {
        "id": "g9hoWXcMqxaY"
      },
      "execution_count": null,
      "outputs": []
    },
    {
      "cell_type": "markdown",
      "source": [
        "3. MLP Model ( given base Code)"
      ],
      "metadata": {
        "id": "J0l2NBNeq-85"
      }
    },
    {
      "cell_type": "code",
      "source": [
        "class MLP(nn.Module):\n",
        "    def __init__(self, vocab_size, embed_dim, num_class, hidden_dim=None):\n",
        "        super().__init__()\n",
        "        self.embedding = nn.EmbeddingBag(vocab_size, embed_dim, sparse=True)\n",
        "        if hidden_dim is None:\n",
        "            self.fc = nn.Linear(embed_dim, num_class)  # Single-layer\n",
        "            self.fc1 = None\n",
        "            self.fc2 = None\n",
        "        else:\n",
        "            self.fc1 = nn.Linear(embed_dim, hidden_dim) # Two-layer\n",
        "            self.fc2 = nn.Linear(hidden_dim, num_class)\n",
        "            self.fc = None\n",
        "        self.init_weights()\n",
        "\n",
        "    def init_weights(self):\n",
        "        initrange = 0.5\n",
        "        self.embedding.weight.data.uniform_(-initrange, initrange)\n",
        "        if self.fc is not None:\n",
        "            self.fc.weight.data.uniform_(-initrange, initrange)\n",
        "            self.fc.bias.data.zero_()\n",
        "        if self.fc1 is not None:\n",
        "            self.fc1.weight.data.uniform_(-initrange, initrange)\n",
        "            self.fc1.bias.data.zero_()\n",
        "            self.fc2.weight.data.uniform_(-initrange, initrange)\n",
        "            self.fc2.bias.data.zero_()\n",
        "\n",
        "    def forward(self, text, offsets):\n",
        "        embedded = self.embedding(text, offsets)\n",
        "        if self.fc is not None:\n",
        "            return self.fc(embedded)\n",
        "        hidden = F.relu(self.fc1(embedded))\n",
        "        return self.fc2(hidden)"
      ],
      "metadata": {
        "id": "TIejZzxFrAe9"
      },
      "execution_count": null,
      "outputs": []
    },
    {
      "cell_type": "markdown",
      "source": [
        "4. Training and Evaluation Functions"
      ],
      "metadata": {
        "id": "QlReo62PrEa5"
      }
    },
    {
      "cell_type": "code",
      "source": [
        "def train_epoch(model, dataloader, optimizer, criterion, device):\n",
        "    model.train()\n",
        "    total_loss, total_correct, total_count = 0,0,0\n",
        "    for labels, texts, offsets in dataloader:\n",
        "        labels, texts, offsets = labels.to(device), texts.to(device), offsets.to(device)\n",
        "        optimizer.zero_grad()\n",
        "        outputs = model(texts, offsets)\n",
        "        loss = criterion(outputs, labels)\n",
        "        loss.backward()\n",
        "        optimizer.step()\n",
        "        total_loss += loss.item() * labels.size(0)\n",
        "        total_correct += (outputs.argmax(1) == labels).sum().item()\n",
        "        total_count += labels.size(0)\n",
        "    return total_loss/total_count, total_correct/total_count\n",
        "\n",
        "def evaluate(model, dataloader, criterion, device, save_misclassified=False):\n",
        "    model.eval()\n",
        "    total_loss, total_correct, total_count = 0,0,0\n",
        "    misclassified = []\n",
        "    with torch.no_grad():\n",
        "        for labels, texts, offsets in dataloader:\n",
        "            labels, texts, offsets = labels.to(device), texts.to(device), offsets.to(device)\n",
        "            outputs = model(texts, offsets)\n",
        "            loss = criterion(outputs, labels)\n",
        "            total_loss += loss.item() * labels.size(0)\n",
        "            preds = outputs.argmax(1)\n",
        "            total_correct += (preds == labels).sum().item()\n",
        "            total_count += labels.size(0)\n",
        "            if save_misclassified:\n",
        "                for i in range(len(preds)):\n",
        "                    if preds[i] != labels[i]:\n",
        "                        misclassified.append((labels[i].item(), preds[i].item()))\n",
        "    if save_misclassified:\n",
        "        print(\"Number of misclassified samples:\", len(misclassified))\n",
        "    return total_loss/total_count, total_correct/total_count\n"
      ],
      "metadata": {
        "id": "0MpDmyYSrK6e"
      },
      "execution_count": null,
      "outputs": []
    },
    {
      "cell_type": "markdown",
      "source": [
        "5. Run Experiments\n",
        "\n",
        "Hyper parameters defined here!"
      ],
      "metadata": {
        "id": "5Jk_IAbzrR5W"
      }
    },
    {
      "cell_type": "code",
      "source": [
        "device = torch.device(\"cpu\")\n",
        "embed_dim = 128\n",
        "num_class = 2\n",
        "epochs = 10\n",
        "lr = 0.05\n",
        "\n",
        "configs = {\"Single layer\": None, \"Two layer-100 hidden\": 100, \"Two layer-200 hidden\": 200}\n",
        "results = {}\n",
        "\n",
        "for name, hidden_dim in configs.items():\n",
        "    print(f\"\\nTraining {name} MLP\")\n",
        "    model = MLP(vocab_size, embed_dim, num_class, hidden_dim).to(device)\n",
        "    optimizer = torch.optim.SGD(model.parameters(), lr=lr)\n",
        "    criterion = nn.CrossEntropyLoss()\n",
        "    test_acc_history = []\n",
        "    for epoch in range(epochs):\n",
        "        train_loss, train_acc = train_epoch(model, train_loader, optimizer, criterion, device)\n",
        "        test_loss, test_acc = evaluate(model, test_loader, criterion, device)\n",
        "        test_acc_history.append(test_acc)\n",
        "        print(f\"Epoch {epoch+1}: Train acc={train_acc:.4f}, Test acc={test_acc:.4f}\")\n",
        "    results[name] = test_acc_history\n"
      ],
      "metadata": {
        "colab": {
          "base_uri": "https://localhost:8080/"
        },
        "id": "4SDfJhyFrSKR",
        "outputId": "5de6c508-a521-45af-f6c9-82bb942620ae"
      },
      "execution_count": null,
      "outputs": [
        {
          "output_type": "stream",
          "name": "stdout",
          "text": [
            "\n",
            "Training Single layer MLP\n",
            "Epoch 1: Train acc=0.5180, Test acc=0.5327\n",
            "Epoch 2: Train acc=0.5514, Test acc=0.5631\n",
            "Epoch 3: Train acc=0.5789, Test acc=0.5793\n",
            "Epoch 4: Train acc=0.5968, Test acc=0.5973\n",
            "Epoch 5: Train acc=0.6110, Test acc=0.6119\n",
            "Epoch 6: Train acc=0.6247, Test acc=0.6207\n",
            "Epoch 7: Train acc=0.6281, Test acc=0.6277\n",
            "Epoch 8: Train acc=0.6342, Test acc=0.6338\n",
            "Epoch 9: Train acc=0.6405, Test acc=0.6350\n",
            "Epoch 10: Train acc=0.6422, Test acc=0.6432\n",
            "\n",
            "Training Two layer-100 hidden MLP\n",
            "Epoch 1: Train acc=0.5596, Test acc=0.5903\n",
            "Epoch 2: Train acc=0.6120, Test acc=0.6266\n",
            "Epoch 3: Train acc=0.6374, Test acc=0.6366\n",
            "Epoch 4: Train acc=0.6544, Test acc=0.6499\n",
            "Epoch 5: Train acc=0.6681, Test acc=0.6674\n",
            "Epoch 6: Train acc=0.6816, Test acc=0.6883\n",
            "Epoch 7: Train acc=0.6954, Test acc=0.7002\n",
            "Epoch 8: Train acc=0.7039, Test acc=0.7094\n",
            "Epoch 9: Train acc=0.7150, Test acc=0.7180\n",
            "Epoch 10: Train acc=0.7252, Test acc=0.7227\n",
            "\n",
            "Training Two layer-200 hidden MLP\n",
            "Epoch 1: Train acc=0.5845, Test acc=0.6173\n",
            "Epoch 2: Train acc=0.6406, Test acc=0.6456\n",
            "Epoch 3: Train acc=0.6643, Test acc=0.6469\n",
            "Epoch 4: Train acc=0.6831, Test acc=0.6806\n",
            "Epoch 5: Train acc=0.6967, Test acc=0.6794\n",
            "Epoch 6: Train acc=0.7092, Test acc=0.6905\n",
            "Epoch 7: Train acc=0.7183, Test acc=0.7019\n",
            "Epoch 8: Train acc=0.7279, Test acc=0.7158\n",
            "Epoch 9: Train acc=0.7349, Test acc=0.6965\n",
            "Epoch 10: Train acc=0.7425, Test acc=0.7202\n"
          ]
        }
      ]
    },
    {
      "cell_type": "markdown",
      "source": [
        "Single layer, Max accuracy: 0.6432\n",
        "\n",
        "Hidden 100, Max accuracy: 0.7227\n",
        "\n",
        "Hidden 200, Max accuracy: 0.7202"
      ],
      "metadata": {
        "id": "vfPkdraW7JDK"
      }
    },
    {
      "cell_type": "markdown",
      "source": [
        "6. Plot Results"
      ],
      "metadata": {
        "id": "2SrwmZNLrVWx"
      }
    },
    {
      "cell_type": "code",
      "source": [
        "plt.figure(figsize=(10,5))\n",
        "for name, accs in results.items():\n",
        "    plt.plot(range(1, epochs+1), accs, marker='o', label=name)\n",
        "plt.xlabel(\"Epoch\")\n",
        "plt.ylabel(\"Test Accuracy\")\n",
        "plt.title(\"Test Accuracy per Epoch\")\n",
        "plt.legend()\n",
        "plt.grid(True)\n",
        "plt.show()"
      ],
      "metadata": {
        "colab": {
          "base_uri": "https://localhost:8080/",
          "height": 487
        },
        "id": "GtdQ0WxQrVkW",
        "outputId": "77345dfc-dbf3-4909-91a1-326d7c6b7162"
      },
      "execution_count": null,
      "outputs": [
        {
          "output_type": "display_data",
          "data": {
            "text/plain": [
              "<Figure size 1000x500 with 1 Axes>"
            ],
            "image/png": "[encoded data removed]"
          },
          "metadata": {}
        }
      ]
    },
    {
      "cell_type": "markdown",
      "source": [
        "7. Analysis"
      ],
      "metadata": {
        "id": "MyudJ2zmrc9T"
      }
    },
    {
      "cell_type": "markdown",
      "source": [
        "The two-layer MLP showed higher accuracy than the single-layer because it obviously can learn more complex, non-linear relationships because of the extra layer. It is like one  extra layer for more filtration/better analysis.\n",
        "\n",
        "Hidden Dimension 100 vs 200:\n",
        "Increasing hidden size from 100 to 200 inceases the accuracy for the 200 modelin the start. This is because more hidden neurons give the model more representational power. However after  during 9 , somethiing interesting emerges . While 100 model is stable, the 200 model has a great dip in accuracy. i cant figure out why yet but essentially for this problem, increasing neuron sin hidden layer didn't help.\n",
        "\n",
        "Hyperparameters Used:\n",
        "\n",
        "Embedding dim : 128\n",
        "\n",
        "Hidden dim : 100 and 200\n",
        "\n",
        "Batch size : 64\n",
        "\n",
        "Epochs : 10\n",
        "\n",
        "Learning rate : 0.05"
      ],
      "metadata": {
        "id": "kmxxeRQ4rnw5"
      }
    },
    {
      "cell_type": "markdown",
      "source": [
        "8. Some Misclassified Examples"
      ],
      "metadata": {
        "id": "hVM4w3FPrif8"
      }
    },
    {
      "cell_type": "code",
      "source": [
        "# Function to decode indices back to words\n",
        "inv_vocab = {idx: word for word, idx in vocab.items()}\n",
        "\n",
        "def decode_text(text_tensor):\n",
        "    return \" \".join([inv_vocab.get(idx.item(), \"<unk>\") for idx in text_tensor])\n",
        "\n",
        "# Evaluate on test set and get misclassified examples\n",
        "for name, hidden_dim in configs.items():\n",
        "    print(f\"\\nMisclassified examples for {name} MLP:\")\n",
        "    model = MLP(vocab_size, embed_dim, num_class, hidden_dim).to(device)\n",
        "    # Load trained model weights if needed, here we assume model is trained in same session\n",
        "    _, _ = evaluate(model, test_loader, criterion, device, save_misclassified=True)\n",
        "\n",
        "    # Collect some misclassified examples\n",
        "    misclassified_texts = []\n",
        "    with torch.no_grad():\n",
        "        for labels, texts, offsets in test_loader:\n",
        "            labels, texts, offsets = labels.to(device), texts.to(device), offsets.to(device)\n",
        "            outputs = model(texts, offsets)\n",
        "            preds = outputs.argmax(1)\n",
        "            for i in range(len(preds)):\n",
        "                if preds[i] != labels[i] and len(misclassified_texts) < 5:\n",
        "                    start = offsets[i].item() if i < len(offsets) else 0\n",
        "                    end = offsets[i+1].item() if i+1 < len(offsets) else len(texts)\n",
        "                    misclassified_texts.append((decode_text(texts[start:end]), labels[i].item(), preds[i].item()))\n",
        "            if len(misclassified_texts) >= 5:\n",
        "                break\n",
        "\n",
        "    for idx, (text, true_label, pred_label) in enumerate(misclassified_texts):\n",
        "        print(f\"Example {idx+1}:\")\n",
        "        print(f\"True label: {true_label}, Predicted: {pred_label}\")\n",
        "        print(f\"Text: {text[:300]}...\\n\")  # show first 300 chars\n",
        "\n"
      ],
      "metadata": {
        "colab": {
          "base_uri": "https://localhost:8080/"
        },
        "id": "eeToFmwcrh9n",
        "outputId": "38001dc1-5ef5-43c3-f19d-d0310e839b77"
      },
      "execution_count": null,
      "outputs": [
        {
          "output_type": "stream",
          "name": "stdout",
          "text": [
            "\n",
            "Misclassified examples for Single layer MLP:\n",
            "Number of misclassified samples: 12482\n",
            "Example 1:\n",
            "True label: 0, Predicted: 1\n",
            "Text: I love sci-fi and am willing to put up with a lot. Sci-fi movies/TV are usually <unk> under-appreciated and misunderstood. I tried to like this, I really did, but it is to good TV sci-fi as Babylon 5 is to Star Trek (the original). Silly prosthetics, cheap cardboard sets, stilted dialogues, CG that ...\n",
            "\n",
            "Example 2:\n",
            "True label: 0, Predicted: 1\n",
            "Text: its a totally average film with a few <unk> action sequences that make the plot seem a little better and remind the viewer of the classic van dam films. parts of the plot don't make sense and seem to be added in to use up time. the end plot is that of a very basic type that doesn't leave the viewer ...\n",
            "\n",
            "Example 3:\n",
            "True label: 0, Predicted: 1\n",
            "Text: STAR RATING: ***** Saturday Night **** Friday Night *** Friday Morning ** Sunday Night * Monday Morning <br /><br />Former New Orleans homicide cop Jack <unk> (Jean Claude Van <unk> is <unk> to Columbus, a small but violent town in Mexico to help the police there with their efforts to stop a major h...\n",
            "\n",
            "Example 4:\n",
            "True label: 0, Predicted: 1\n",
            "Text: First off let me say, If you haven't enjoyed a Van Damme movie since <unk> you probably will not like this movie. Most of these movies may not have the best plots or best actors but I enjoy these kinds of movies for what they are. This movie is much better than any of the movies the other action guy...\n",
            "\n",
            "Example 5:\n",
            "True label: 0, Predicted: 1\n",
            "Text: I had high hopes for this one until they changed the name to 'The Shepherd : Border <unk> the lamest movie name ever, what was wrong with just 'The <unk> This is a by the numbers action flick that tips its hat at many classic Van Damme films. There is a nice bit of action in a bar which reminded me ...\n",
            "\n",
            "\n",
            "Misclassified examples for Two layer-100 hidden MLP:\n",
            "Number of misclassified samples: 12781\n",
            "Example 1:\n",
            "True label: 0, Predicted: 1\n",
            "Text: Worth the entertainment value of a rental, especially if you like action movies. This one features the usual car chases, fights with the great Van Damme kick style, shooting battles with the 40 shell load shotgun, and even terrorist style bombs. All of this is entertaining and competently handled bu...\n",
            "\n",
            "Example 2:\n",
            "True label: 0, Predicted: 1\n",
            "Text: Isaac Florentine has made some of the best western Martial Arts action movies ever produced. In particular US <unk> 2, Cold Harvest, Special Forces and Undisputed 2 are all action classics. You can tell Isaac has a real passion for the genre and his films are always eventful, creative and sharp affa...\n",
            "\n",
            "Example 3:\n",
            "True label: 0, Predicted: 1\n",
            "Text: It actually pains me to say it, but this movie was horrible on every level. The blame does not lie entirely with Van Damme as you can see he tried his best, but let's face it, he's almost <unk> how much more can you ask of him? I find it so hard to believe that the same people who put together Undis...\n",
            "\n",
            "Example 4:\n",
            "True label: 0, Predicted: 1\n",
            "Text: Technically I'am a Van Damme Fan, or I was. this movie is so bad that I hated myself for wasting those 90 minutes. Do not let the name Isaac Florentine <unk> II) fool you, I had big hopes for this one, depending on what I saw in <unk> II), <unk> was I wrong ??! all action fans wanted a big comeback ...\n",
            "\n",
            "Example 5:\n",
            "True label: 0, Predicted: 1\n",
            "Text: I first watched this movie back in the mid/late 80's, when I was a kid. We couldn't even get all the way through it. The dialog, the acting, everything about it was just beyond lame.<br /><br />Here are a few <unk> imagine these spoken real dramatically, way <unk> <unk> You're going to <unk> Why wou...\n",
            "\n",
            "\n",
            "Misclassified examples for Two layer-200 hidden MLP:\n",
            "Number of misclassified samples: 12429\n",
            "Example 1:\n",
            "True label: 0, Predicted: 1\n",
            "Text: I love sci-fi and am willing to put up with a lot. Sci-fi movies/TV are usually <unk> under-appreciated and misunderstood. I tried to like this, I really did, but it is to good TV sci-fi as Babylon 5 is to Star Trek (the original). Silly prosthetics, cheap cardboard sets, stilted dialogues, CG that ...\n",
            "\n",
            "Example 2:\n",
            "True label: 0, Predicted: 1\n",
            "Text: STAR RATING: ***** Saturday Night **** Friday Night *** Friday Morning ** Sunday Night * Monday Morning <br /><br />Former New Orleans homicide cop Jack <unk> (Jean Claude Van <unk> is <unk> to Columbus, a small but violent town in Mexico to help the police there with their efforts to stop a major h...\n",
            "\n",
            "Example 3:\n",
            "True label: 0, Predicted: 1\n",
            "Text: Isaac Florentine has made some of the best western Martial Arts action movies ever produced. In particular US <unk> 2, Cold Harvest, Special Forces and Undisputed 2 are all action classics. You can tell Isaac has a real passion for the genre and his films are always eventful, creative and sharp affa...\n",
            "\n",
            "Example 4:\n",
            "True label: 0, Predicted: 1\n",
            "Text: It actually pains me to say it, but this movie was horrible on every level. The blame does not lie entirely with Van Damme as you can see he tried his best, but let's face it, he's almost <unk> how much more can you ask of him? I find it so hard to believe that the same people who put together Undis...\n",
            "\n",
            "Example 5:\n",
            "True label: 0, Predicted: 1\n",
            "Text: I first watched this movie back in the mid/late 80's, when I was a kid. We couldn't even get all the way through it. The dialog, the acting, everything about it was just beyond lame.<br /><br />Here are a few <unk> imagine these spoken real dramatically, way <unk> <unk> You're going to <unk> Why wou...\n",
            "\n"
          ]
        }
      ]
    },
    {
      "cell_type": "markdown",
      "source": [
        "For the misclassified samples, the model fails on long, rare words , sarcastic, or ambiguous reviews. it makes sense because we arent using an attention model to encode context , the model is just using word occurences to predict if its popsitive or negative.\n",
        "\n",
        "for an instance, for one of these test cases, it has failed due to sarcasm and also too many positive words being mentioned.\n",
        "\n",
        " Text: I love sci-fi and am willing to put up with a lot. Sci-fi movies/TV are usually <unk> under-appreciated and misunderstood. I tried to like this, I really did, but it is to good TV sci-fi as Babylon 5 is to Star Trek (the original). Silly prosthetics, cheap cardboard sets, stilted dialogues, CG that ..."
      ],
      "metadata": {
        "id": "YmZYwKV0-RZZ"
      }
    }
  ]
}
